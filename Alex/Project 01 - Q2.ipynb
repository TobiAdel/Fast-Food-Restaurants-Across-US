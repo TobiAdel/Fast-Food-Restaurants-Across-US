{
 "cells": [
  {
   "cell_type": "markdown",
   "id": "bae8d6b4",
   "metadata": {},
   "source": [
    "## Question 2:\n",
    "\n",
    "#### What’s the most popular fast food restaurant in the U.S? \n",
    "* Is there a correlation between price level and user rating total?"
   ]
  },
  {
   "cell_type": "code",
   "execution_count": 154,
   "id": "036a65fe",
   "metadata": {},
   "outputs": [],
   "source": [
    "# Dependencies\n",
    "import matplotlib.pyplot as plt\n",
    "import pandas as pd\n",
    "import scipy.stats as st"
   ]
  },
  {
   "cell_type": "code",
   "execution_count": 155,
   "id": "32ffeb6e",
   "metadata": {},
   "outputs": [
    {
     "data": {
      "text/html": [
       "<div>\n",
       "<style scoped>\n",
       "    .dataframe tbody tr th:only-of-type {\n",
       "        vertical-align: middle;\n",
       "    }\n",
       "\n",
       "    .dataframe tbody tr th {\n",
       "        vertical-align: top;\n",
       "    }\n",
       "\n",
       "    .dataframe thead th {\n",
       "        text-align: right;\n",
       "    }\n",
       "</style>\n",
       "<table border=\"1\" class=\"dataframe\">\n",
       "  <thead>\n",
       "    <tr style=\"text-align: right;\">\n",
       "      <th></th>\n",
       "      <th>name</th>\n",
       "      <th>country</th>\n",
       "      <th>latitude</th>\n",
       "      <th>longitude</th>\n",
       "      <th>Street Adress</th>\n",
       "      <th>price_level</th>\n",
       "      <th>rating</th>\n",
       "      <th>user_ratings_total</th>\n",
       "    </tr>\n",
       "  </thead>\n",
       "  <tbody>\n",
       "    <tr>\n",
       "      <th>0</th>\n",
       "      <td>Sonic Drive-In</td>\n",
       "      <td>US</td>\n",
       "      <td>29.814697</td>\n",
       "      <td>-90.814742</td>\n",
       "      <td>800 N Canal Blvd, Thibodaux, LA 70301</td>\n",
       "      <td>1.0</td>\n",
       "      <td>4.3</td>\n",
       "      <td>479.0</td>\n",
       "    </tr>\n",
       "    <tr>\n",
       "      <th>1</th>\n",
       "      <td>Taco Bell</td>\n",
       "      <td>US</td>\n",
       "      <td>35.803788</td>\n",
       "      <td>-83.580553</td>\n",
       "      <td>206 Wears Valley Rd, Pigeon Forge, TN 37863</td>\n",
       "      <td>1.0</td>\n",
       "      <td>3.3</td>\n",
       "      <td>1029.0</td>\n",
       "    </tr>\n",
       "    <tr>\n",
       "      <th>2</th>\n",
       "      <td>Arby's</td>\n",
       "      <td>US</td>\n",
       "      <td>35.782339</td>\n",
       "      <td>-83.551408</td>\n",
       "      <td>3652 Parkway, Pigeon Forge, TN 37863</td>\n",
       "      <td>1.0</td>\n",
       "      <td>3.9</td>\n",
       "      <td>1620.0</td>\n",
       "    </tr>\n",
       "    <tr>\n",
       "      <th>3</th>\n",
       "      <td>Steak 'n Shake</td>\n",
       "      <td>US</td>\n",
       "      <td>33.562738</td>\n",
       "      <td>-84.321143</td>\n",
       "      <td>2118 Mt Zion Parkway, Morrow, GA 30260</td>\n",
       "      <td>1.0</td>\n",
       "      <td>3.4</td>\n",
       "      <td>5287.0</td>\n",
       "    </tr>\n",
       "    <tr>\n",
       "      <th>4</th>\n",
       "      <td>Wendy's</td>\n",
       "      <td>US</td>\n",
       "      <td>42.368823</td>\n",
       "      <td>-83.138251</td>\n",
       "      <td>9768 Grand River Ave, Detroit, MI 48204</td>\n",
       "      <td>1.0</td>\n",
       "      <td>3.6</td>\n",
       "      <td>1560.0</td>\n",
       "    </tr>\n",
       "  </tbody>\n",
       "</table>\n",
       "</div>"
      ],
      "text/plain": [
       "             name country   latitude  longitude  \\\n",
       "0  Sonic Drive-In      US  29.814697 -90.814742   \n",
       "1       Taco Bell      US  35.803788 -83.580553   \n",
       "2          Arby's      US  35.782339 -83.551408   \n",
       "3  Steak 'n Shake      US  33.562738 -84.321143   \n",
       "4         Wendy's      US  42.368823 -83.138251   \n",
       "\n",
       "                                 Street Adress  price_level  rating  \\\n",
       "0        800 N Canal Blvd, Thibodaux, LA 70301          1.0     4.3   \n",
       "1  206 Wears Valley Rd, Pigeon Forge, TN 37863          1.0     3.3   \n",
       "2         3652 Parkway, Pigeon Forge, TN 37863          1.0     3.9   \n",
       "3       2118 Mt Zion Parkway, Morrow, GA 30260          1.0     3.4   \n",
       "4      9768 Grand River Ave, Detroit, MI 48204          1.0     3.6   \n",
       "\n",
       "   user_ratings_total  \n",
       "0               479.0  \n",
       "1              1029.0  \n",
       "2              1620.0  \n",
       "3              5287.0  \n",
       "4              1560.0  "
      ]
     },
     "execution_count": 155,
     "metadata": {},
     "output_type": "execute_result"
    }
   ],
   "source": [
    "# Read our Data file with the pandas library\n",
    "df = pd.read_csv(\"../fastfood_restaurant_review.csv\")\n",
    "df.head()"
   ]
  },
  {
   "cell_type": "code",
   "execution_count": 156,
   "id": "51afc42e",
   "metadata": {},
   "outputs": [
    {
     "name": "stdout",
     "output_type": "stream",
     "text": [
      "Number of rows: 7821\n",
      "Number of columns: 8\n"
     ]
    }
   ],
   "source": [
    "#Count Rows and Columns in the DataFrame\n",
    "r, c = df.shape\n",
    "print(f'Number of rows: {r}')\n",
    "print(f'Number of columns: {c}')"
   ]
  },
  {
   "cell_type": "code",
   "execution_count": 157,
   "id": "141aedde",
   "metadata": {},
   "outputs": [],
   "source": [
    "# Standardize restaurant name\n",
    "df['name']=df['name'].replace({'Chick-Fil-A':'Chick-fil-A'})"
   ]
  },
  {
   "cell_type": "code",
   "execution_count": 158,
   "id": "a8450244",
   "metadata": {},
   "outputs": [
    {
     "data": {
      "text/html": [
       "<div>\n",
       "<style scoped>\n",
       "    .dataframe tbody tr th:only-of-type {\n",
       "        vertical-align: middle;\n",
       "    }\n",
       "\n",
       "    .dataframe tbody tr th {\n",
       "        vertical-align: top;\n",
       "    }\n",
       "\n",
       "    .dataframe thead th {\n",
       "        text-align: right;\n",
       "    }\n",
       "</style>\n",
       "<table border=\"1\" class=\"dataframe\">\n",
       "  <thead>\n",
       "    <tr style=\"text-align: right;\">\n",
       "      <th></th>\n",
       "      <th>name</th>\n",
       "      <th>country</th>\n",
       "      <th>latitude</th>\n",
       "      <th>longitude</th>\n",
       "      <th>Street Adress</th>\n",
       "      <th>price_level</th>\n",
       "      <th>rating</th>\n",
       "      <th>user_ratings_total</th>\n",
       "    </tr>\n",
       "  </thead>\n",
       "  <tbody>\n",
       "    <tr>\n",
       "      <th>0</th>\n",
       "      <td>Sonic Drive-In</td>\n",
       "      <td>US</td>\n",
       "      <td>29.814697</td>\n",
       "      <td>-90.814742</td>\n",
       "      <td>800 N Canal Blvd, Thibodaux, LA 70301</td>\n",
       "      <td>1.0</td>\n",
       "      <td>4.3</td>\n",
       "      <td>479.0</td>\n",
       "    </tr>\n",
       "    <tr>\n",
       "      <th>1</th>\n",
       "      <td>Taco Bell</td>\n",
       "      <td>US</td>\n",
       "      <td>35.803788</td>\n",
       "      <td>-83.580553</td>\n",
       "      <td>206 Wears Valley Rd, Pigeon Forge, TN 37863</td>\n",
       "      <td>1.0</td>\n",
       "      <td>3.3</td>\n",
       "      <td>1029.0</td>\n",
       "    </tr>\n",
       "    <tr>\n",
       "      <th>2</th>\n",
       "      <td>Arby's</td>\n",
       "      <td>US</td>\n",
       "      <td>35.782339</td>\n",
       "      <td>-83.551408</td>\n",
       "      <td>3652 Parkway, Pigeon Forge, TN 37863</td>\n",
       "      <td>1.0</td>\n",
       "      <td>3.9</td>\n",
       "      <td>1620.0</td>\n",
       "    </tr>\n",
       "    <tr>\n",
       "      <th>3</th>\n",
       "      <td>Steak 'n Shake</td>\n",
       "      <td>US</td>\n",
       "      <td>33.562738</td>\n",
       "      <td>-84.321143</td>\n",
       "      <td>2118 Mt Zion Parkway, Morrow, GA 30260</td>\n",
       "      <td>1.0</td>\n",
       "      <td>3.4</td>\n",
       "      <td>5287.0</td>\n",
       "    </tr>\n",
       "    <tr>\n",
       "      <th>4</th>\n",
       "      <td>Wendy's</td>\n",
       "      <td>US</td>\n",
       "      <td>42.368823</td>\n",
       "      <td>-83.138251</td>\n",
       "      <td>9768 Grand River Ave, Detroit, MI 48204</td>\n",
       "      <td>1.0</td>\n",
       "      <td>3.6</td>\n",
       "      <td>1560.0</td>\n",
       "    </tr>\n",
       "  </tbody>\n",
       "</table>\n",
       "</div>"
      ],
      "text/plain": [
       "             name country   latitude  longitude  \\\n",
       "0  Sonic Drive-In      US  29.814697 -90.814742   \n",
       "1       Taco Bell      US  35.803788 -83.580553   \n",
       "2          Arby's      US  35.782339 -83.551408   \n",
       "3  Steak 'n Shake      US  33.562738 -84.321143   \n",
       "4         Wendy's      US  42.368823 -83.138251   \n",
       "\n",
       "                                 Street Adress  price_level  rating  \\\n",
       "0        800 N Canal Blvd, Thibodaux, LA 70301          1.0     4.3   \n",
       "1  206 Wears Valley Rd, Pigeon Forge, TN 37863          1.0     3.3   \n",
       "2         3652 Parkway, Pigeon Forge, TN 37863          1.0     3.9   \n",
       "3       2118 Mt Zion Parkway, Morrow, GA 30260          1.0     3.4   \n",
       "4      9768 Grand River Ave, Detroit, MI 48204          1.0     3.6   \n",
       "\n",
       "   user_ratings_total  \n",
       "0               479.0  \n",
       "1              1029.0  \n",
       "2              1620.0  \n",
       "3              5287.0  \n",
       "4              1560.0  "
      ]
     },
     "execution_count": 158,
     "metadata": {},
     "output_type": "execute_result"
    }
   ],
   "source": [
    "df1 = df.dropna()\n",
    "df1.head()"
   ]
  },
  {
   "cell_type": "code",
   "execution_count": 159,
   "id": "872c1e77",
   "metadata": {},
   "outputs": [
    {
     "name": "stdout",
     "output_type": "stream",
     "text": [
      "Number of rows: 7821\n",
      "Number of columns: 8\n"
     ]
    }
   ],
   "source": [
    "#Count Rows and Columns in the DataFrame\n",
    "r, c = df1.shape\n",
    "print(f'Number of rows: {r}')\n",
    "print(f'Number of columns: {c}')"
   ]
  },
  {
   "cell_type": "markdown",
   "id": "1589542d",
   "metadata": {},
   "source": [
    "### What’s the most popular fast food restaurant in the U.S?\n",
    "\n",
    "The *rating* of each restaurant is multiplied by the number of *user_ratings_total* to create the *level of popularity*"
   ]
  },
  {
   "cell_type": "code",
   "execution_count": 160,
   "id": "7f896c54",
   "metadata": {},
   "outputs": [
    {
     "data": {
      "text/html": [
       "<div>\n",
       "<style scoped>\n",
       "    .dataframe tbody tr th:only-of-type {\n",
       "        vertical-align: middle;\n",
       "    }\n",
       "\n",
       "    .dataframe tbody tr th {\n",
       "        vertical-align: top;\n",
       "    }\n",
       "\n",
       "    .dataframe thead th {\n",
       "        text-align: right;\n",
       "    }\n",
       "</style>\n",
       "<table border=\"1\" class=\"dataframe\">\n",
       "  <thead>\n",
       "    <tr style=\"text-align: right;\">\n",
       "      <th></th>\n",
       "      <th>level_of_popularity</th>\n",
       "    </tr>\n",
       "    <tr>\n",
       "      <th>name</th>\n",
       "      <th></th>\n",
       "    </tr>\n",
       "  </thead>\n",
       "  <tbody>\n",
       "    <tr>\n",
       "      <th>McDonald's</th>\n",
       "      <td>5866282.0</td>\n",
       "    </tr>\n",
       "    <tr>\n",
       "      <th>Taco Bell</th>\n",
       "      <td>2700748.7</td>\n",
       "    </tr>\n",
       "    <tr>\n",
       "      <th>Burger King</th>\n",
       "      <td>1697753.1</td>\n",
       "    </tr>\n",
       "    <tr>\n",
       "      <th>Arby's</th>\n",
       "      <td>1648261.8</td>\n",
       "    </tr>\n",
       "    <tr>\n",
       "      <th>Wendy's</th>\n",
       "      <td>1642936.5</td>\n",
       "    </tr>\n",
       "    <tr>\n",
       "      <th>Chick-fil-A</th>\n",
       "      <td>1439481.1</td>\n",
       "    </tr>\n",
       "    <tr>\n",
       "      <th>Subway</th>\n",
       "      <td>1325979.7</td>\n",
       "    </tr>\n",
       "    <tr>\n",
       "      <th>Jack in the Box</th>\n",
       "      <td>892636.7</td>\n",
       "    </tr>\n",
       "    <tr>\n",
       "      <th>In-N-Out Burger</th>\n",
       "      <td>767863.8</td>\n",
       "    </tr>\n",
       "    <tr>\n",
       "      <th>Sonic Drive-In</th>\n",
       "      <td>586511.0</td>\n",
       "    </tr>\n",
       "    <tr>\n",
       "      <th>Dairy Queen</th>\n",
       "      <td>473094.7</td>\n",
       "    </tr>\n",
       "    <tr>\n",
       "      <th>Domino's Pizza</th>\n",
       "      <td>422226.7</td>\n",
       "    </tr>\n",
       "    <tr>\n",
       "      <th>Pizza Hut</th>\n",
       "      <td>393477.3</td>\n",
       "    </tr>\n",
       "    <tr>\n",
       "      <th>Jimmy John's</th>\n",
       "      <td>326474.9</td>\n",
       "    </tr>\n",
       "    <tr>\n",
       "      <th>Culver's</th>\n",
       "      <td>322189.8</td>\n",
       "    </tr>\n",
       "    <tr>\n",
       "      <th>KFC</th>\n",
       "      <td>316065.1</td>\n",
       "    </tr>\n",
       "    <tr>\n",
       "      <th>Carl's Jr.</th>\n",
       "      <td>304889.1</td>\n",
       "    </tr>\n",
       "    <tr>\n",
       "      <th>Steak 'n Shake</th>\n",
       "      <td>277631.5</td>\n",
       "    </tr>\n",
       "    <tr>\n",
       "      <th>Hardee's</th>\n",
       "      <td>273373.7</td>\n",
       "    </tr>\n",
       "    <tr>\n",
       "      <th>Whataburger</th>\n",
       "      <td>242568.1</td>\n",
       "    </tr>\n",
       "  </tbody>\n",
       "</table>\n",
       "</div>"
      ],
      "text/plain": [
       "                 level_of_popularity\n",
       "name                                \n",
       "McDonald's                 5866282.0\n",
       "Taco Bell                  2700748.7\n",
       "Burger King                1697753.1\n",
       "Arby's                     1648261.8\n",
       "Wendy's                    1642936.5\n",
       "Chick-fil-A                1439481.1\n",
       "Subway                     1325979.7\n",
       "Jack in the Box             892636.7\n",
       "In-N-Out Burger             767863.8\n",
       "Sonic Drive-In              586511.0\n",
       "Dairy Queen                 473094.7\n",
       "Domino's Pizza              422226.7\n",
       "Pizza Hut                   393477.3\n",
       "Jimmy John's                326474.9\n",
       "Culver's                    322189.8\n",
       "KFC                         316065.1\n",
       "Carl's Jr.                  304889.1\n",
       "Steak 'n Shake              277631.5\n",
       "Hardee's                    273373.7\n",
       "Whataburger                 242568.1"
      ]
     },
     "execution_count": 160,
     "metadata": {},
     "output_type": "execute_result"
    }
   ],
   "source": [
    "# Calculate the level of popularity for each restaurant\n",
    "df1['level_of_popularity'] = df1['rating'] * df1['user_ratings_total']\n",
    "columns = [\"name\",\"level_of_popularity\"]\n",
    "master_table = df1[columns]\n",
    "df2 = master_table.groupby(['name']).sum()\n",
    "df2.sort_values(['level_of_popularity'], ascending=False).head(20)"
   ]
  },
  {
   "cell_type": "code",
   "execution_count": 161,
   "id": "68f66b61",
   "metadata": {},
   "outputs": [
    {
     "data": {
      "text/plain": [
       "<AxesSubplot:title={'center':'Top 20 Most Populart Restaurants in the US (Per Million User Points)'}, ylabel='Restaurant'>"
      ]
     },
     "execution_count": 161,
     "metadata": {},
     "output_type": "execute_result"
    },
    {
     "data": {
      "image/png": "[encoded data removed]",
      "text/plain": [
       "<Figure size 1080x720 with 1 Axes>"
      ]
     },
     "metadata": {
      "needs_background": "light"
     },
     "output_type": "display_data"
    }
   ],
   "source": [
    "# Create a bar chart by restaurant name\n",
    "columns = [\"name\",\"level_of_popularity\"]\n",
    "master_table = df1[columns]\n",
    "df2 = master_table.groupby(['name']).sum()\n",
    "df2['level_of_popularity'] = df2['level_of_popularity']/1000000\n",
    "df2 = df2.sort_values(['level_of_popularity'], ascending=False).head(20)\n",
    "df2 = df2.sort_values(['level_of_popularity'], ascending=True)\n",
    "\n",
    "\n",
    "df2.plot(kind='barh', xlabel = 'Restaurant', ylabel = 'Level of Popularity', title='Top 20 Most Populart Restaurants in the US (Per Million User Points)', figsize= (15,10), color='#0496FF', grid = True)\n"
   ]
  },
  {
   "cell_type": "markdown",
   "id": "e69a2fc5",
   "metadata": {},
   "source": [
    "### Is there a correlation between price level and user rating total?"
   ]
  },
  {
   "cell_type": "code",
   "execution_count": 172,
   "id": "eae2a0d0",
   "metadata": {},
   "outputs": [
    {
     "data": {
      "image/png": "[encoded data removed]",
      "text/plain": [
       "<Figure size 432x288 with 1 Axes>"
      ]
     },
     "metadata": {
      "needs_background": "light"
     },
     "output_type": "display_data"
    },
    {
     "name": "stdout",
     "output_type": "stream",
     "text": [
      "The r-squared is: 0.1538\n",
      "The correlation coefficient is: 0.3922\n"
     ]
    }
   ],
   "source": [
    "from scipy.stats import linregress\n",
    "import numpy as np\n",
    "from sklearn import datasets\n",
    "from scipy import stats\n",
    "\n",
    "# Create a bar chart by restaurant name\n",
    "columns = [\"name\",\"price_level\", \"rating\"]\n",
    "master_table = df1[columns]\n",
    "df2 = master_table.groupby(['name']).mean()\n",
    "\n",
    "#df2.plot(kind='scatter', x =\"price_level\", y=\"rating\", figsize= (15,10), color='#0496FF', grid = True)\n",
    "\n",
    "# correlation between column 1 and column2\n",
    "correlation_index = df2['price_level'].corr(df2['rating']) \n",
    "\n",
    "\n",
    "\n",
    "x_values = df2['price_level']\n",
    "y_values = df2['rating']\n",
    "(slope, intercept, rvalue, pvalue, stderr) = linregress(x_values, y_values)\n",
    "regress_values = x_values * slope + intercept\n",
    "plt.scatter(x_values,y_values)\n",
    "plt.plot(x_values,regress_values,\"r-\")\n",
    "plt.xlabel('Price Level')\n",
    "plt.ylabel('Rating')\n",
    "plt.show()\n",
    "print(f\"The r-squared is: {rvalue**2:.4f}\")\n",
    "print(f'The correlation coefficient is: {correlation_index:.4f}')"
   ]
  },
  {
   "cell_type": "code",
   "execution_count": null,
   "id": "049a1af2",
   "metadata": {},
   "outputs": [],
   "source": []
  }
 ],
 "metadata": {
  "kernelspec": {
   "display_name": "Python 3",
   "language": "python",
   "name": "python3"
  },
  "language_info": {
   "codemirror_mode": {
    "name": "ipython",
    "version": 3
   },
   "file_extension": ".py",
   "mimetype": "text/x-python",
   "name": "python",
   "nbconvert_exporter": "python",
   "pygments_lexer": "ipython3",
   "version": "3.8.8"
  }
 },
 "nbformat": 4,
 "nbformat_minor": 5
}
