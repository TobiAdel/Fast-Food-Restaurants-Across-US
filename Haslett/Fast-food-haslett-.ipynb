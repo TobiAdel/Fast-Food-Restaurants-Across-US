{
 "cells": [
  {
   "cell_type": "code",
   "execution_count": 24,
   "id": "242c9662",
   "metadata": {},
   "outputs": [],
   "source": [
    "import pandas as pd\n",
    "import numpy as np\n",
    "import requests\n",
    "import sys\n",
    "import seaborn as sns\n",
    "from scipy import stats\n",
    "import matplotlib.pyplot as plt\n"
   ]
  },
  {
   "cell_type": "code",
   "execution_count": 2,
   "id": "dcfc66df",
   "metadata": {},
   "outputs": [],
   "source": [
    "fastfood_us_df = pd.read_csv(\"US_fastfood_restaurant_review.csv\")"
   ]
  },
  {
   "cell_type": "code",
   "execution_count": 3,
   "id": "4ce6dd21",
   "metadata": {},
   "outputs": [
    {
     "data": {
      "text/html": [
       "<div>\n",
       "<style scoped>\n",
       "    .dataframe tbody tr th:only-of-type {\n",
       "        vertical-align: middle;\n",
       "    }\n",
       "\n",
       "    .dataframe tbody tr th {\n",
       "        vertical-align: top;\n",
       "    }\n",
       "\n",
       "    .dataframe thead th {\n",
       "        text-align: right;\n",
       "    }\n",
       "</style>\n",
       "<table border=\"1\" class=\"dataframe\">\n",
       "  <thead>\n",
       "    <tr style=\"text-align: right;\">\n",
       "      <th></th>\n",
       "      <th>name</th>\n",
       "      <th>country</th>\n",
       "      <th>latitude</th>\n",
       "      <th>longitude</th>\n",
       "      <th>Street Adress</th>\n",
       "      <th>price_level</th>\n",
       "      <th>rating</th>\n",
       "      <th>user_ratings_total</th>\n",
       "      <th>province</th>\n",
       "      <th>state</th>\n",
       "    </tr>\n",
       "  </thead>\n",
       "  <tbody>\n",
       "    <tr>\n",
       "      <th>0</th>\n",
       "      <td>Sonic Drive-In</td>\n",
       "      <td>US</td>\n",
       "      <td>29.814697</td>\n",
       "      <td>-90.814742</td>\n",
       "      <td>800 N Canal Blvd, Thibodaux, LA 70301</td>\n",
       "      <td>1.0</td>\n",
       "      <td>4.3</td>\n",
       "      <td>479.0</td>\n",
       "      <td>Thibodaux</td>\n",
       "      <td>LA</td>\n",
       "    </tr>\n",
       "    <tr>\n",
       "      <th>1</th>\n",
       "      <td>Taco Bell</td>\n",
       "      <td>US</td>\n",
       "      <td>35.803788</td>\n",
       "      <td>-83.580553</td>\n",
       "      <td>206 Wears Valley Rd, Pigeon Forge, TN 37863</td>\n",
       "      <td>1.0</td>\n",
       "      <td>3.3</td>\n",
       "      <td>1029.0</td>\n",
       "      <td>Pigeon Forge</td>\n",
       "      <td>TN</td>\n",
       "    </tr>\n",
       "    <tr>\n",
       "      <th>2</th>\n",
       "      <td>Arby's</td>\n",
       "      <td>US</td>\n",
       "      <td>35.782339</td>\n",
       "      <td>-83.551408</td>\n",
       "      <td>3652 Parkway, Pigeon Forge, TN 37863</td>\n",
       "      <td>1.0</td>\n",
       "      <td>3.9</td>\n",
       "      <td>1620.0</td>\n",
       "      <td>Pigeon Forge</td>\n",
       "      <td>TN</td>\n",
       "    </tr>\n",
       "    <tr>\n",
       "      <th>3</th>\n",
       "      <td>Steak 'n Shake</td>\n",
       "      <td>US</td>\n",
       "      <td>33.562738</td>\n",
       "      <td>-84.321143</td>\n",
       "      <td>2118 Mt Zion Parkway, Morrow, GA 30260</td>\n",
       "      <td>1.0</td>\n",
       "      <td>3.4</td>\n",
       "      <td>5287.0</td>\n",
       "      <td>Morrow</td>\n",
       "      <td>GA</td>\n",
       "    </tr>\n",
       "    <tr>\n",
       "      <th>4</th>\n",
       "      <td>Wendy's</td>\n",
       "      <td>US</td>\n",
       "      <td>42.368823</td>\n",
       "      <td>-83.138251</td>\n",
       "      <td>9768 Grand River Ave, Detroit, MI 48204</td>\n",
       "      <td>1.0</td>\n",
       "      <td>3.6</td>\n",
       "      <td>1560.0</td>\n",
       "      <td>Detroit</td>\n",
       "      <td>MI</td>\n",
       "    </tr>\n",
       "    <tr>\n",
       "      <th>...</th>\n",
       "      <td>...</td>\n",
       "      <td>...</td>\n",
       "      <td>...</td>\n",
       "      <td>...</td>\n",
       "      <td>...</td>\n",
       "      <td>...</td>\n",
       "      <td>...</td>\n",
       "      <td>...</td>\n",
       "      <td>...</td>\n",
       "      <td>...</td>\n",
       "    </tr>\n",
       "    <tr>\n",
       "      <th>7652</th>\n",
       "      <td>Pizza Hut</td>\n",
       "      <td>US</td>\n",
       "      <td>36.078802</td>\n",
       "      <td>-80.387508</td>\n",
       "      <td>5062 Styers Ferry Rd, Lewisville, NC 27023</td>\n",
       "      <td>1.0</td>\n",
       "      <td>3.6</td>\n",
       "      <td>230.0</td>\n",
       "      <td>Lewisville</td>\n",
       "      <td>NC</td>\n",
       "    </tr>\n",
       "    <tr>\n",
       "      <th>7653</th>\n",
       "      <td>Pizza Hut</td>\n",
       "      <td>US</td>\n",
       "      <td>36.117563</td>\n",
       "      <td>-80.316553</td>\n",
       "      <td>3460 Robinhood Rd, Winston-Salem, NC 27106</td>\n",
       "      <td>2.0</td>\n",
       "      <td>4.5</td>\n",
       "      <td>387.0</td>\n",
       "      <td>Winston-Salem</td>\n",
       "      <td>NC</td>\n",
       "    </tr>\n",
       "    <tr>\n",
       "      <th>7654</th>\n",
       "      <td>Pizza Hut</td>\n",
       "      <td>US</td>\n",
       "      <td>36.077718</td>\n",
       "      <td>-80.176748</td>\n",
       "      <td>3069 Kernersville Rd, Winston-Salem, NC 27107</td>\n",
       "      <td>1.0</td>\n",
       "      <td>4.6</td>\n",
       "      <td>1488.0</td>\n",
       "      <td>Winston-Salem</td>\n",
       "      <td>NC</td>\n",
       "    </tr>\n",
       "    <tr>\n",
       "      <th>7655</th>\n",
       "      <td>Pizza Hut</td>\n",
       "      <td>US</td>\n",
       "      <td>36.111015</td>\n",
       "      <td>-80.089165</td>\n",
       "      <td>838 S Main St, Kernersville, NC 27284</td>\n",
       "      <td>1.0</td>\n",
       "      <td>3.2</td>\n",
       "      <td>644.0</td>\n",
       "      <td>Kernersville</td>\n",
       "      <td>NC</td>\n",
       "    </tr>\n",
       "    <tr>\n",
       "      <th>7656</th>\n",
       "      <td>Pizza Hut</td>\n",
       "      <td>US</td>\n",
       "      <td>34.632778</td>\n",
       "      <td>-78.624615</td>\n",
       "      <td>1405 W Broad St, Elizabethtown, NC 28337</td>\n",
       "      <td>1.0</td>\n",
       "      <td>3.7</td>\n",
       "      <td>314.0</td>\n",
       "      <td>Elizabethtown</td>\n",
       "      <td>NC</td>\n",
       "    </tr>\n",
       "  </tbody>\n",
       "</table>\n",
       "<p>7657 rows × 10 columns</p>\n",
       "</div>"
      ],
      "text/plain": [
       "                name country   latitude  longitude  \\\n",
       "0     Sonic Drive-In      US  29.814697 -90.814742   \n",
       "1          Taco Bell      US  35.803788 -83.580553   \n",
       "2             Arby's      US  35.782339 -83.551408   \n",
       "3     Steak 'n Shake      US  33.562738 -84.321143   \n",
       "4            Wendy's      US  42.368823 -83.138251   \n",
       "...              ...     ...        ...        ...   \n",
       "7652       Pizza Hut      US  36.078802 -80.387508   \n",
       "7653       Pizza Hut      US  36.117563 -80.316553   \n",
       "7654       Pizza Hut      US  36.077718 -80.176748   \n",
       "7655       Pizza Hut      US  36.111015 -80.089165   \n",
       "7656       Pizza Hut      US  34.632778 -78.624615   \n",
       "\n",
       "                                      Street Adress  price_level  rating  \\\n",
       "0             800 N Canal Blvd, Thibodaux, LA 70301          1.0     4.3   \n",
       "1       206 Wears Valley Rd, Pigeon Forge, TN 37863          1.0     3.3   \n",
       "2              3652 Parkway, Pigeon Forge, TN 37863          1.0     3.9   \n",
       "3            2118 Mt Zion Parkway, Morrow, GA 30260          1.0     3.4   \n",
       "4           9768 Grand River Ave, Detroit, MI 48204          1.0     3.6   \n",
       "...                                             ...          ...     ...   \n",
       "7652     5062 Styers Ferry Rd, Lewisville, NC 27023          1.0     3.6   \n",
       "7653     3460 Robinhood Rd, Winston-Salem, NC 27106          2.0     4.5   \n",
       "7654  3069 Kernersville Rd, Winston-Salem, NC 27107          1.0     4.6   \n",
       "7655          838 S Main St, Kernersville, NC 27284          1.0     3.2   \n",
       "7656       1405 W Broad St, Elizabethtown, NC 28337          1.0     3.7   \n",
       "\n",
       "      user_ratings_total        province state  \n",
       "0                  479.0       Thibodaux    LA  \n",
       "1                 1029.0    Pigeon Forge    TN  \n",
       "2                 1620.0    Pigeon Forge    TN  \n",
       "3                 5287.0          Morrow    GA  \n",
       "4                 1560.0         Detroit    MI  \n",
       "...                  ...             ...   ...  \n",
       "7652               230.0      Lewisville    NC  \n",
       "7653               387.0   Winston-Salem    NC  \n",
       "7654              1488.0   Winston-Salem    NC  \n",
       "7655               644.0    Kernersville    NC  \n",
       "7656               314.0   Elizabethtown    NC  \n",
       "\n",
       "[7657 rows x 10 columns]"
      ]
     },
     "execution_count": 3,
     "metadata": {},
     "output_type": "execute_result"
    }
   ],
   "source": [
    "fastfood_us_df"
   ]
  },
  {
   "cell_type": "code",
   "execution_count": 4,
   "id": "e4f3ae51",
   "metadata": {},
   "outputs": [],
   "source": [
    "fastfood_us_df['name']=fastfood_us_df['name'].replace({\"Chick-Fil-A\":'Chick-fil-A'\n",
    "                                          })"
   ]
  },
  {
   "cell_type": "code",
   "execution_count": 5,
   "id": "b1e52e3d",
   "metadata": {},
   "outputs": [],
   "source": [
    "fastfood_us =fastfood_us_df.dropna()"
   ]
  },
  {
   "cell_type": "code",
   "execution_count": 6,
   "id": "bfbdf9d4",
   "metadata": {},
   "outputs": [
    {
     "data": {
      "text/plain": [
       "McDonald's                1628\n",
       "Taco Bell                  876\n",
       "Burger King                711\n",
       "Subway                     654\n",
       "Arby's                     569\n",
       "Wendy's                    531\n",
       "Jack in the Box            290\n",
       "Chick-fil-A                194\n",
       "Pizza Hut                  180\n",
       "Domino's Pizza             175\n",
       "Dairy Queen                172\n",
       "Sonic Drive-In             170\n",
       "KFC                        155\n",
       "Carl's Jr.                 108\n",
       "Jimmy John's               102\n",
       "Hardee's                    96\n",
       "Krystal                     68\n",
       "Panera Bread                63\n",
       "Culver's                    63\n",
       "Dunkin' Donuts              59\n",
       "Del Taco                    55\n",
       "Steak 'n Shake              49\n",
       "SUBWAY                      49\n",
       "In-N-Out Burger             47\n",
       "Taco John's                 44\n",
       "Panda Express               43\n",
       "Long John Silver's          43\n",
       "Checkers                    36\n",
       "Whataburger                 36\n",
       "Waffle House                35\n",
       "Boston Market               33\n",
       "Chipotle Mexican Grill      33\n",
       "Bojangles                   29\n",
       "Wienerschnitzel             26\n",
       "Rally's                     25\n",
       "White Castle                25\n",
       "Bob Evans Restaurant        24\n",
       "Baskin-Robbins              22\n",
       "Church's Chicken            22\n",
       "Quiznos                     22\n",
       "Five Guys                   21\n",
       "Taco Time                   20\n",
       "Popeyes                     19\n",
       "Taco Bueno                  18\n",
       "El Pollo Loco               17\n",
       "Name: name, dtype: int64"
      ]
     },
     "execution_count": 6,
     "metadata": {},
     "output_type": "execute_result"
    }
   ],
   "source": [
    "threshold = 16 # Anything that occurs less than this will be removed.\n",
    "value_counts = fastfood_us['name'].value_counts() # Entire DataFrame \n",
    "to_remove = value_counts[value_counts <=threshold].index\n",
    "fastfood_us.replace(to_remove, np.nan, inplace=True)\n",
    "\n",
    "fastfood_us=fastfood_us.dropna()\n",
    "\n",
    "fastfood_us['name'].value_counts()"
   ]
  },
  {
   "cell_type": "code",
   "execution_count": 7,
   "id": "ad9e25bd",
   "metadata": {},
   "outputs": [
    {
     "data": {
      "text/plain": [
       "name                   object\n",
       "country                object\n",
       "latitude              float64\n",
       "longitude             float64\n",
       "Street Adress          object\n",
       "price_level           float64\n",
       "rating                float64\n",
       "user_ratings_total    float64\n",
       "province               object\n",
       "state                  object\n",
       "dtype: object"
      ]
     },
     "execution_count": 7,
     "metadata": {},
     "output_type": "execute_result"
    }
   ],
   "source": [
    "fastfood_us['rating'] = fastfood_us['rating'].astype(float)\n",
    "fastfood_us.dtypes\n",
    "\n"
   ]
  },
  {
   "cell_type": "code",
   "execution_count": 8,
   "id": "a6c16885",
   "metadata": {},
   "outputs": [],
   "source": [
    "state_rating_average = fastfood_us.groupby(['name','state'])['rating'].mean()"
   ]
  },
  {
   "cell_type": "code",
   "execution_count": 9,
   "id": "f30d3472",
   "metadata": {},
   "outputs": [],
   "source": [
    "state_restaurant_total=fastfood_us.groupby(['name','state'])['user_ratings_total'].sum()"
   ]
  },
  {
   "cell_type": "code",
   "execution_count": 10,
   "id": "e66e7620",
   "metadata": {},
   "outputs": [],
   "source": [
    "overview = pd.DataFrame({\n",
    "    \"state rating average\": state_rating_average,\n",
    "    \"state restaurant total\": state_restaurant_total,\n",
    "    })"
   ]
  },
  {
   "cell_type": "code",
   "execution_count": 11,
   "id": "97ee7d51",
   "metadata": {},
   "outputs": [
    {
     "data": {
      "text/html": [
       "<div>\n",
       "<style scoped>\n",
       "    .dataframe tbody tr th:only-of-type {\n",
       "        vertical-align: middle;\n",
       "    }\n",
       "\n",
       "    .dataframe tbody tr th {\n",
       "        vertical-align: top;\n",
       "    }\n",
       "\n",
       "    .dataframe thead th {\n",
       "        text-align: right;\n",
       "    }\n",
       "</style>\n",
       "<table border=\"1\" class=\"dataframe\">\n",
       "  <thead>\n",
       "    <tr style=\"text-align: right;\">\n",
       "      <th></th>\n",
       "      <th></th>\n",
       "      <th>state rating average</th>\n",
       "      <th>state restaurant total</th>\n",
       "    </tr>\n",
       "    <tr>\n",
       "      <th>name</th>\n",
       "      <th>state</th>\n",
       "      <th></th>\n",
       "      <th></th>\n",
       "    </tr>\n",
       "  </thead>\n",
       "  <tbody>\n",
       "    <tr>\n",
       "      <th rowspan=\"5\" valign=\"top\">Arby's</th>\n",
       "      <th>AK</th>\n",
       "      <td>3.900000</td>\n",
       "      <td>390.0</td>\n",
       "    </tr>\n",
       "    <tr>\n",
       "      <th>AR</th>\n",
       "      <td>4.016667</td>\n",
       "      <td>3798.0</td>\n",
       "    </tr>\n",
       "    <tr>\n",
       "      <th>AZ</th>\n",
       "      <td>4.053333</td>\n",
       "      <td>11471.0</td>\n",
       "    </tr>\n",
       "    <tr>\n",
       "      <th>CA</th>\n",
       "      <td>4.112500</td>\n",
       "      <td>11056.0</td>\n",
       "    </tr>\n",
       "    <tr>\n",
       "      <th>CO</th>\n",
       "      <td>3.908333</td>\n",
       "      <td>10757.0</td>\n",
       "    </tr>\n",
       "    <tr>\n",
       "      <th>...</th>\n",
       "      <th>...</th>\n",
       "      <td>...</td>\n",
       "      <td>...</td>\n",
       "    </tr>\n",
       "    <tr>\n",
       "      <th rowspan=\"2\" valign=\"top\">White Castle</th>\n",
       "      <th>PA</th>\n",
       "      <td>3.800000</td>\n",
       "      <td>3862.0</td>\n",
       "    </tr>\n",
       "    <tr>\n",
       "      <th>TN</th>\n",
       "      <td>4.600000</td>\n",
       "      <td>193.0</td>\n",
       "    </tr>\n",
       "    <tr>\n",
       "      <th rowspan=\"3\" valign=\"top\">Wienerschnitzel</th>\n",
       "      <th>AZ</th>\n",
       "      <td>4.233333</td>\n",
       "      <td>4233.0</td>\n",
       "    </tr>\n",
       "    <tr>\n",
       "      <th>CA</th>\n",
       "      <td>4.073684</td>\n",
       "      <td>10123.0</td>\n",
       "    </tr>\n",
       "    <tr>\n",
       "      <th>TX</th>\n",
       "      <td>4.225000</td>\n",
       "      <td>6039.0</td>\n",
       "    </tr>\n",
       "  </tbody>\n",
       "</table>\n",
       "<p>827 rows × 2 columns</p>\n",
       "</div>"
      ],
      "text/plain": [
       "                       state rating average  state restaurant total\n",
       "name            state                                              \n",
       "Arby's          AK                 3.900000                   390.0\n",
       "                AR                 4.016667                  3798.0\n",
       "                AZ                 4.053333                 11471.0\n",
       "                CA                 4.112500                 11056.0\n",
       "                CO                 3.908333                 10757.0\n",
       "...                                     ...                     ...\n",
       "White Castle    PA                 3.800000                  3862.0\n",
       "                TN                 4.600000                   193.0\n",
       "Wienerschnitzel AZ                 4.233333                  4233.0\n",
       "                CA                 4.073684                 10123.0\n",
       "                TX                 4.225000                  6039.0\n",
       "\n",
       "[827 rows x 2 columns]"
      ]
     },
     "execution_count": 11,
     "metadata": {},
     "output_type": "execute_result"
    }
   ],
   "source": [
    "overview"
   ]
  },
  {
   "cell_type": "code",
   "execution_count": 12,
   "id": "0f173fda",
   "metadata": {},
   "outputs": [],
   "source": [
    "overview=overview.reset_index(drop=False)"
   ]
  },
  {
   "cell_type": "code",
   "execution_count": 13,
   "id": "3c3439da",
   "metadata": {},
   "outputs": [],
   "source": [
    "overview=overview.rename(columns={'name':'Restaurant'})"
   ]
  },
  {
   "cell_type": "code",
   "execution_count": 14,
   "id": "7c232825",
   "metadata": {},
   "outputs": [],
   "source": [
    "a= overview[overview[\"Restaurant\"] == \"McDonald's\"]['state rating average'].idxmax() #HI\n",
    "b=overview[overview[\"Restaurant\"] == \"McDonald's\"]['state rating average'].idxmin() #NE\n",
    "c=overview[overview[\"state\"] == \"HI\"]['state rating average'].idxmin()\n",
    "d=overview[overview[\"state\"] == \"UT\"]['state rating average'].idxmax()"
   ]
  },
  {
   "cell_type": "code",
   "execution_count": 15,
   "id": "f75c6cbd",
   "metadata": {},
   "outputs": [
    {
     "name": "stdout",
     "output_type": "stream",
     "text": [
      "443\n",
      "475\n",
      "79\n",
      "547\n"
     ]
    }
   ],
   "source": [
    "print(a)\n",
    "print(b)\n",
    "print(c)\n",
    "print(d)"
   ]
  },
  {
   "cell_type": "code",
   "execution_count": 16,
   "id": "06ac5619",
   "metadata": {},
   "outputs": [],
   "source": [
    "aa=overview.loc[(a)]\n",
    "bb=overview.loc[(b)]\n",
    "cc=overview.loc[(c)]\n",
    "dd=overview.loc[(d)]"
   ]
  },
  {
   "cell_type": "code",
   "execution_count": 17,
   "id": "9b804990",
   "metadata": {},
   "outputs": [],
   "source": [
    "aaa=pd.DataFrame(aa)\n",
    "aaa=aaa.transpose()\n",
    "bbb=pd.DataFrame(bb)\n",
    "bbb=bbb.transpose()\n",
    "ccc=pd.DataFrame(cc)\n",
    "ccc=ccc.transpose()\n",
    "ddd=pd.DataFrame(dd)\n",
    "ddd=ddd.transpose()"
   ]
  },
  {
   "cell_type": "code",
   "execution_count": 18,
   "id": "5b79359b",
   "metadata": {},
   "outputs": [
    {
     "name": "stderr",
     "output_type": "stream",
     "text": [
      "C:\\Users\\shupe\\AppData\\Local\\Temp\\ipykernel_18180\\1666942915.py:1: FutureWarning: The frame.append method is deprecated and will be removed from pandas in a future version. Use pandas.concat instead.\n",
      "  eee=aaa.append(bbb)\n",
      "C:\\Users\\shupe\\AppData\\Local\\Temp\\ipykernel_18180\\1666942915.py:2: FutureWarning: The frame.append method is deprecated and will be removed from pandas in a future version. Use pandas.concat instead.\n",
      "  eee=eee.append(ccc)\n",
      "C:\\Users\\shupe\\AppData\\Local\\Temp\\ipykernel_18180\\1666942915.py:3: FutureWarning: The frame.append method is deprecated and will be removed from pandas in a future version. Use pandas.concat instead.\n",
      "  eee=eee.append(ddd)\n"
     ]
    },
    {
     "data": {
      "text/html": [
       "<div>\n",
       "<style scoped>\n",
       "    .dataframe tbody tr th:only-of-type {\n",
       "        vertical-align: middle;\n",
       "    }\n",
       "\n",
       "    .dataframe tbody tr th {\n",
       "        vertical-align: top;\n",
       "    }\n",
       "\n",
       "    .dataframe thead th {\n",
       "        text-align: right;\n",
       "    }\n",
       "</style>\n",
       "<table border=\"1\" class=\"dataframe\">\n",
       "  <thead>\n",
       "    <tr style=\"text-align: right;\">\n",
       "      <th></th>\n",
       "      <th>Restaurant</th>\n",
       "      <th>state</th>\n",
       "      <th>state rating average</th>\n",
       "      <th>state restaurant total</th>\n",
       "    </tr>\n",
       "  </thead>\n",
       "  <tbody>\n",
       "    <tr>\n",
       "      <th>443</th>\n",
       "      <td>McDonald's</td>\n",
       "      <td>HI</td>\n",
       "      <td>4.02</td>\n",
       "      <td>5101.0</td>\n",
       "    </tr>\n",
       "    <tr>\n",
       "      <th>475</th>\n",
       "      <td>McDonald's</td>\n",
       "      <td>UT</td>\n",
       "      <td>3.0375</td>\n",
       "      <td>6538.0</td>\n",
       "    </tr>\n",
       "    <tr>\n",
       "      <th>79</th>\n",
       "      <td>Burger King</td>\n",
       "      <td>HI</td>\n",
       "      <td>3.3</td>\n",
       "      <td>668.0</td>\n",
       "    </tr>\n",
       "    <tr>\n",
       "      <th>547</th>\n",
       "      <td>Pizza Hut</td>\n",
       "      <td>UT</td>\n",
       "      <td>4.6</td>\n",
       "      <td>552.0</td>\n",
       "    </tr>\n",
       "  </tbody>\n",
       "</table>\n",
       "</div>"
      ],
      "text/plain": [
       "      Restaurant state state rating average state restaurant total\n",
       "443   McDonald's    HI                 4.02                 5101.0\n",
       "475   McDonald's    UT               3.0375                 6538.0\n",
       "79   Burger King    HI                  3.3                  668.0\n",
       "547    Pizza Hut    UT                  4.6                  552.0"
      ]
     },
     "execution_count": 18,
     "metadata": {},
     "output_type": "execute_result"
    }
   ],
   "source": [
    "eee=aaa.append(bbb)\n",
    "eee=eee.append(ccc)\n",
    "eee=eee.append(ddd)\n",
    "eee"
   ]
  },
  {
   "cell_type": "code",
   "execution_count": 19,
   "id": "14dfc711",
   "metadata": {},
   "outputs": [
    {
     "data": {
      "image/png": "[encoded data removed]",
      "text/plain": [
       "<Figure size 443.45x432 with 1 Axes>"
      ]
     },
     "metadata": {},
     "output_type": "display_data"
    }
   ],
   "source": [
    "sns.set(rc={'axes.facecolor':'Silver', 'figure.facecolor':'Silver'})\n",
    "sra_plot=sns.catplot(x=\"state\",y='state rating average', hue=\"Restaurant\",data=eee,kind='bar',height=6,aspect=.8,palette=['#FFFF00',\"#FFA500\",\"#D30000\"])\n",
    "sra_plot.set_axis_labels(\"State\",\"Average Rating\")\n",
    "sra_plot.set_xticklabels(['Hawaii(highest)','Utah(lowest)'])\n",
    "sra_plot.set(ylim=(0,5))\n",
    "ax = sra_plot.facet_axis(0, 0)\n",
    "for c in ax.containers:\n",
    "    labels = [f'{(v.get_height() / 1):.1f}' for v in c]\n",
    "    ax.bar_label(c, labels=labels, label_type='edge')\n",
    "sra_plot.fig.suptitle(\"Extreme Ratings\",ha='center',va='top',y=1.02,size=22,fontweight='bold')\n",
    "sra_plot.savefig(\"Extreme Rating.png\",bbox_inches='tight',dpi=1920)\n"
   ]
  },
  {
   "cell_type": "code",
   "execution_count": 20,
   "id": "8af7c0ea",
   "metadata": {},
   "outputs": [
    {
     "data": {
      "image/png": "[encoded data removed]",
      "text/plain": [
       "<Figure size 443.45x432 with 1 Axes>"
      ]
     },
     "metadata": {},
     "output_type": "display_data"
    }
   ],
   "source": [
    "srt_plot=sns.catplot(x=\"state\",y='state restaurant total', hue=\"Restaurant\",data=eee,kind='bar',height=6,aspect=.8,palette=['#FFFF00',\"#FFA500\",\"#D30000\"])\n",
    "srt_plot.set_axis_labels(\"State\",\"Restaurant Total\")\n",
    "srt_plot.set_xticklabels(['Hawaii(highest)','Utah(lowest)'])\n",
    "srt_plot.set(ylim=(0,7000))\n",
    "ax = srt_plot.facet_axis(0, 0)\n",
    "for c in ax.containers:\n",
    "    labels = [f'{(v.get_height() / 1000):.1f}k' for v in c]\n",
    "    ax.bar_label(c, labels=labels, label_type='edge')\n",
    "srt_plot.fig.suptitle(\"Extreme Locations\",ha='center',va='center',y=1,size=22,fontweight='bold')\n",
    "srt_plot.savefig(\"Extreme Location.png\",bbox_inches='tight',dpi=1920)"
   ]
  },
  {
   "cell_type": "code",
   "execution_count": 21,
   "id": "4c20043e",
   "metadata": {
    "scrolled": true
   },
   "outputs": [
    {
     "data": {
      "text/html": [
       "<div>\n",
       "<style scoped>\n",
       "    .dataframe tbody tr th:only-of-type {\n",
       "        vertical-align: middle;\n",
       "    }\n",
       "\n",
       "    .dataframe tbody tr th {\n",
       "        vertical-align: top;\n",
       "    }\n",
       "\n",
       "    .dataframe thead th {\n",
       "        text-align: right;\n",
       "    }\n",
       "</style>\n",
       "<table border=\"1\" class=\"dataframe\">\n",
       "  <thead>\n",
       "    <tr style=\"text-align: right;\">\n",
       "      <th></th>\n",
       "      <th>Restaurant</th>\n",
       "      <th>state</th>\n",
       "      <th>state rating average</th>\n",
       "      <th>state restaurant total</th>\n",
       "    </tr>\n",
       "  </thead>\n",
       "  <tbody>\n",
       "    <tr>\n",
       "      <th>71</th>\n",
       "      <td>Burger King</td>\n",
       "      <td>AR</td>\n",
       "      <td>3.750000</td>\n",
       "      <td>981.0</td>\n",
       "    </tr>\n",
       "    <tr>\n",
       "      <th>72</th>\n",
       "      <td>Burger King</td>\n",
       "      <td>AZ</td>\n",
       "      <td>3.811765</td>\n",
       "      <td>16411.0</td>\n",
       "    </tr>\n",
       "    <tr>\n",
       "      <th>73</th>\n",
       "      <td>Burger King</td>\n",
       "      <td>CA</td>\n",
       "      <td>3.840952</td>\n",
       "      <td>63905.0</td>\n",
       "    </tr>\n",
       "    <tr>\n",
       "      <th>74</th>\n",
       "      <td>Burger King</td>\n",
       "      <td>CO</td>\n",
       "      <td>3.957143</td>\n",
       "      <td>6286.0</td>\n",
       "    </tr>\n",
       "    <tr>\n",
       "      <th>75</th>\n",
       "      <td>Burger King</td>\n",
       "      <td>CT</td>\n",
       "      <td>3.425000</td>\n",
       "      <td>2012.0</td>\n",
       "    </tr>\n",
       "    <tr>\n",
       "      <th>...</th>\n",
       "      <td>...</td>\n",
       "      <td>...</td>\n",
       "      <td>...</td>\n",
       "      <td>...</td>\n",
       "    </tr>\n",
       "    <tr>\n",
       "      <th>547</th>\n",
       "      <td>Pizza Hut</td>\n",
       "      <td>UT</td>\n",
       "      <td>4.600000</td>\n",
       "      <td>552.0</td>\n",
       "    </tr>\n",
       "    <tr>\n",
       "      <th>548</th>\n",
       "      <td>Pizza Hut</td>\n",
       "      <td>WA</td>\n",
       "      <td>3.950000</td>\n",
       "      <td>1144.0</td>\n",
       "    </tr>\n",
       "    <tr>\n",
       "      <th>549</th>\n",
       "      <td>Pizza Hut</td>\n",
       "      <td>WI</td>\n",
       "      <td>3.700000</td>\n",
       "      <td>1855.0</td>\n",
       "    </tr>\n",
       "    <tr>\n",
       "      <th>550</th>\n",
       "      <td>Pizza Hut</td>\n",
       "      <td>WV</td>\n",
       "      <td>4.200000</td>\n",
       "      <td>314.0</td>\n",
       "    </tr>\n",
       "    <tr>\n",
       "      <th>551</th>\n",
       "      <td>Pizza Hut</td>\n",
       "      <td>WY</td>\n",
       "      <td>4.166667</td>\n",
       "      <td>1186.0</td>\n",
       "    </tr>\n",
       "  </tbody>\n",
       "</table>\n",
       "<p>128 rows × 4 columns</p>\n",
       "</div>"
      ],
      "text/plain": [
       "      Restaurant state  state rating average  state restaurant total\n",
       "71   Burger King    AR              3.750000                   981.0\n",
       "72   Burger King    AZ              3.811765                 16411.0\n",
       "73   Burger King    CA              3.840952                 63905.0\n",
       "74   Burger King    CO              3.957143                  6286.0\n",
       "75   Burger King    CT              3.425000                  2012.0\n",
       "..           ...   ...                   ...                     ...\n",
       "547    Pizza Hut    UT              4.600000                   552.0\n",
       "548    Pizza Hut    WA              3.950000                  1144.0\n",
       "549    Pizza Hut    WI              3.700000                  1855.0\n",
       "550    Pizza Hut    WV              4.200000                   314.0\n",
       "551    Pizza Hut    WY              4.166667                  1186.0\n",
       "\n",
       "[128 rows x 4 columns]"
      ]
     },
     "execution_count": 21,
     "metadata": {},
     "output_type": "execute_result"
    }
   ],
   "source": [
    "overview_scatter=overview[overview['Restaurant'].isin([\"Burger King\",\"McDonald's\",\"Pizza Hut\"])]\n",
    "overview_scatter"
   ]
  },
  {
   "cell_type": "code",
   "execution_count": 47,
   "id": "6af6a0d7",
   "metadata": {},
   "outputs": [
    {
     "name": "stdout",
     "output_type": "stream",
     "text": [
      "0.10633439321063168 mcdonalds r\n",
      "0.4719374977000318 mcdonalds p\n",
      "0.1838265898853587 bk r\n",
      "0.22136196254168108 bk p\n",
      "0.003275604615464535 za hut r\n",
      "0.985331326149311 za hut p\n"
     ]
    },
    {
     "data": {
      "image/png": "[encoded data removed]",
      "text/plain": [
       "<Figure size 457.85x360 with 1 Axes>"
      ]
     },
     "metadata": {},
     "output_type": "display_data"
    }
   ],
   "source": [
    "extreme_regression=sns.lmplot(x='state restaurant total',y=\"state rating average\",hue=\"Restaurant\",data=overview_scatter,ci=None,palette=[\"#FFA500\",'#FFFF00',\"#D30000\"],fit_reg=True)\n",
    "plt.title(\"Extreme Regression\",size=22,fontweight=\"bold\")\n",
    "extreme_regression.set(xlim=(0,95000))\n",
    "extreme_regression.set(ylim=(0,5))\n",
    "slope, intercept, r_value, p_value, std_err = stats.linregress(overview_scatter[overview_scatter[\"Restaurant\"] == \"McDonald's\"][\"state restaurant total\"]\n",
    "                                                               ,overview_scatter[overview_scatter[\"Restaurant\"] == \"McDonald's\"][\"state rating average\"])\n",
    "print(f'{r_value} mcdonalds r')\n",
    "print(f'{p_value} mcdonalds p')\n",
    "slope, intercept, r_value2, p_value2, std_err = stats.linregress(overview_scatter[overview_scatter[\"Restaurant\"] == \"Burger King\"][\"state restaurant total\"]\n",
    "                                                               ,overview_scatter[overview_scatter[\"Restaurant\"] == \"Burger King\"][\"state rating average\"])\n",
    "print(f'{r_value2} bk r')\n",
    "print(f'{p_value2} bk p')\n",
    "slope, intercept, r_value3, p_value3, std_err = stats.linregress(overview_scatter[overview_scatter[\"Restaurant\"] == \"Pizza Hut\"][\"state restaurant total\"],overview_scatter[overview_scatter[\"Restaurant\"] == \"Pizza Hut\"][\"state rating average\"])\n",
    "print(f'{r_value3} za hut r')\n",
    "print(f'{p_value3} za hut p')"
   ]
  },
  {
   "cell_type": "code",
   "execution_count": 48,
   "id": "88fdff40",
   "metadata": {},
   "outputs": [
    {
     "data": {
      "image/png": "[encoded data removed]",
      "text/plain": [
       "<Figure size 432x288 with 1 Axes>"
      ]
     },
     "metadata": {},
     "output_type": "display_data"
    }
   ],
   "source": [
    "extreme_scatter=sns.scatterplot(data=overview_scatter,x=\"state restaurant total\",y=\"state rating average\",hue=\"Restaurant\",style=\"Restaurant\",palette=[\"#FFA500\",'#FFFF00',\"#D30000\"],legend=\"auto\",)\n",
    "extreme_scatter.set_title(\"Extreme Scatter\")\n",
    "extreme_scatter.grid(visible='true')\n",
    "extreme_scatter.set(xlim=(0,90000))\n",
    "extreme_scatter.set(ylim=(0,5))\n",
    "plt.title(\"Extreme Scatter\",size=22,fontweight=\"bold\")\n",
    "extreme_scatter.figure.savefig(\"Extreme Scatter.png\",bbox_inches='tight',dpi=1920)"
   ]
  },
  {
   "cell_type": "code",
   "execution_count": null,
   "id": "9adca1ac",
   "metadata": {},
   "outputs": [],
   "source": []
  }
 ],
 "metadata": {
  "kernelspec": {
   "display_name": "PythonData",
   "language": "python",
   "name": "pythondata"
  },
  "language_info": {
   "codemirror_mode": {
    "name": "ipython",
    "version": 3
   },
   "file_extension": ".py",
   "mimetype": "text/x-python",
   "name": "python",
   "nbconvert_exporter": "python",
   "pygments_lexer": "ipython3",
   "version": "3.9.12"
  }
 },
 "nbformat": 4,
 "nbformat_minor": 5
}
